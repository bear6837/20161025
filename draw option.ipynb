{
 "cells": [
  {
   "cell_type": "code",
   "execution_count": 21,
   "metadata": {
    "collapsed": false
   },
   "outputs": [],
   "source": [
    "import numpy as np\n",
    "K=9000\n",
    "Interval = 400\n",
    "Premium_Call=160\n",
    "Premium_Put=190\n",
    "ST=np.arange(K - Interval, K + Interval)"
   ]
  },
  {
   "cell_type": "code",
   "execution_count": 22,
   "metadata": {
    "collapsed": false
   },
   "outputs": [],
   "source": [
    "Payoff_LongCall = np.maximum(ST - K, 0) - Premium_Call\n",
    "Payoff_ShortCall = - Payoff_LongCall\n",
    "Payoff_LongPut = np.maximum(K-ST, 0)- Premium_Put\n",
    "Payoff_ShortPut = -Payoff_LongPut"
   ]
  },
  {
   "cell_type": "code",
   "execution_count": 23,
   "metadata": {
    "collapsed": false
   },
   "outputs": [],
   "source": [
    "import matplotlib.pyplot as plt\n",
    "plt.plot(ST, Payoff_LongCall)\n",
    "plt.plot(ST, Payoff_ShortCall)\n",
    "plt.axhline(0, color='black', ls='dashed')\n",
    "plt.axvline(K, color='black', ls='dashed')\n",
    "plt.axvline(K + Premium_Call, color='black', ls='dashed')\n",
    "#plt.ylim([min(Payoff)-10],max(Payoff)+10)\n",
    "plt.show()"
   ]
  },
  {
   "cell_type": "code",
   "execution_count": 24,
   "metadata": {
    "collapsed": true
   },
   "outputs": [],
   "source": [
    "import matplotlib.pyplot as plt\n",
    "plt.plot(ST, Payoff_LongPut)\n",
    "plt.plot(ST, Payoff_ShortPut)\n",
    "plt.axhline(0, color='black', ls='dashed')\n",
    "plt.axvline(K, color='black', ls='dashed')\n",
    "plt.axvline(K - Premium_Put, color='black', ls='dashed')\n",
    "#plt.ylim([min(Payoff)-10],max(Payoff)+10)\n",
    "plt.show()"
   ]
  }
 ],
 "metadata": {
  "kernelspec": {
   "display_name": "Python 3",
   "language": "python",
   "name": "python3"
  },
  "language_info": {
   "codemirror_mode": {
    "name": "ipython",
    "version": 3
   },
   "file_extension": ".py",
   "mimetype": "text/x-python",
   "name": "python",
   "nbconvert_exporter": "python",
   "pygments_lexer": "ipython3",
   "version": "3.5.1"
  }
 },
 "nbformat": 4,
 "nbformat_minor": 0
}
